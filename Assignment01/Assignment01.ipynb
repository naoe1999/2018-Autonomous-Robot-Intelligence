{
 "cells": [
  {
   "cell_type": "markdown",
   "metadata": {},
   "source": [
    "# Assignment 1\n",
    "\n",
    "# 1. Data 취득\n",
    "\n",
    "교육 여건과 부동산 가격의 상관관계를 파악하기 위해 아래와 같은 데이터를 이용하였다.\n",
    "\n",
    "### 1) <B>교육 여건 관련 지표</B>: 인구 천 명 당 사설학원 수\n",
    "  - 출처: 통계지리정보서비스 (https://sgis.kostat.go.kr) <br>\n",
    "  - 원출처: 행정안전부 주민등록인구현황, 각시도 통계연보 <br>\n",
    "\n",
    "\n",
    "### 2) <B>부동산 가격 관련 지표</B>: 2018년 8월 아파트 평균 단위 매매가격\n",
    "  - 출처: 한국감정원 (http://r-one.co.kr/rone/resis/statistics/statisticsViewer.do?menuId=HOUSE_21121&autoExec=Y)\n"
   ]
  },
  {
   "cell_type": "code",
   "execution_count": 1,
   "metadata": {
    "collapsed": true,
    "scrolled": false
   },
   "outputs": [],
   "source": [
    "import numpy as np\n",
    "import matplotlib.pyplot as plt\n",
    "%matplotlib inline\n",
    "\n",
    "train_data = np.genfromtxt('assignment01_train.csv', delimiter=',')\n",
    "test_data = np.genfromtxt('assignment01_test.csv', delimiter=',')\n",
    "\n",
    "# training data\n",
    "X = train_data[:, 0]\n",
    "Y = train_data[:, 1]\n",
    "\n",
    "ndata_tr = len(X)\n",
    "\n",
    "# normalization\n",
    "xmin = min(X)\n",
    "xmax = max(X)\n",
    "X_ = (X - xmin) / (xmax - xmin)\n",
    "\n",
    "ymin = min(Y)\n",
    "ymax = max(Y)\n",
    "Y_ = (Y - ymin) / (ymax - ymin)"
   ]
  },
  {
   "cell_type": "markdown",
   "metadata": {},
   "source": [
    "# 2. Linear Regression\n",
    "\n",
    "## 2.1 Gradient Descent Method\n",
    "\n",
    "### 2.1.1 Training"
   ]
  },
  {
   "cell_type": "code",
   "execution_count": 2,
   "metadata": {},
   "outputs": [
    {
     "name": "stdout",
     "output_type": "stream",
     "text": [
      "training loss:  0.023063436563\n"
     ]
    },
    {
     "data": {
      "text/plain": [
       "[<matplotlib.lines.Line2D at 0x21f92250e80>]"
      ]
     },
     "execution_count": 2,
     "metadata": {},
     "output_type": "execute_result"
    },
    {
     "data": {
      "image/png": "[encoded data removed]",
      "text/plain": [
       "<matplotlib.figure.Figure at 0x21f8ebeae48>"
      ]
     },
     "metadata": {},
     "output_type": "display_data"
    }
   ],
   "source": [
    "# initailize weight and bias for linear regression\n",
    "w = 0.6\n",
    "b = 0\n",
    "\n",
    "alpha = 0.001  # learning rate\n",
    "epoch = 1000\n",
    "\n",
    "err_history = []\n",
    "\n",
    "for i in range(epoch):\n",
    "    Y_pred = w*X_ + b\n",
    "    Loss = 0.5 * (Y_ - Y_pred) ** 2\n",
    "    mse = Loss.sum() / ndata_tr\n",
    "    \n",
    "    dLdw = (Y_pred - Y_) * X_\n",
    "    dLdb = (Y_pred - Y_)\n",
    "    dLdw_mean = dLdw.sum() / ndata_tr\n",
    "    dLdb_mean = dLdb.sum() / ndata_tr\n",
    "    \n",
    "    w = w - alpha * dLdw_mean\n",
    "    b = b - alpha * dLdb_mean\n",
    "    \n",
    "    err_history.append(mse)\n",
    "\n",
    "    \n",
    "# final training result\n",
    "Y_pred = w*X_ + b\n",
    "Loss = 0.5 * (Y_ - Y_pred) ** 2\n",
    "mse = Loss.sum() / ndata_tr\n",
    "err_history.append(mse)\n",
    "\n",
    "print('training loss: ', mse) # print the last mean square error\n",
    "plt.plot(err_history)\n"
   ]
  },
  {
   "cell_type": "markdown",
   "metadata": {},
   "source": [
    "### 2.1.2 Test"
   ]
  },
  {
   "cell_type": "code",
   "execution_count": 3,
   "metadata": {},
   "outputs": [
    {
     "name": "stdout",
     "output_type": "stream",
     "text": [
      "test loss:  0.0201721030553\n",
      "weight:  0.615539896844\n",
      "bias:  0.0725886879816\n"
     ]
    },
    {
     "data": {
      "text/plain": [
       "[<matplotlib.lines.Line2D at 0x21f8ef0a550>]"
      ]
     },
     "execution_count": 3,
     "metadata": {},
     "output_type": "execute_result"
    },
    {
     "data": {
      "image/png": "[encoded data removed]",
      "text/plain": [
       "<matplotlib.figure.Figure at 0x21f924b17b8>"
      ]
     },
     "metadata": {},
     "output_type": "display_data"
    }
   ],
   "source": [
    "# test data\n",
    "Xts = test_data[:, 0]\n",
    "Yts = test_data[:, 1]\n",
    "\n",
    "ndata_ts = len(Xts)\n",
    "\n",
    "# normalization\n",
    "Xts_ = (Xts - xmin) / (xmax - xmin)\n",
    "Yts_ = (Yts - ymin) / (ymax - ymin)\n",
    "\n",
    "Yts_pred = w*Xts_ + b\n",
    "Loss = 0.5 * (Yts_ - Yts_pred) ** 2\n",
    "mse = Loss.sum() / ndata_ts\n",
    "\n",
    "print('test loss: ', mse)\n",
    "print('weight: ', w)\n",
    "print('bias: ', b)\n",
    "\n",
    "# plot the linear regression result\n",
    "\n",
    "xmax_overall = max(xmax, max(Xts))\n",
    "xmin_overall = min(xmin, min(Xts))\n",
    "X_lin = np.linspace(xmin_overall, xmax_overall, 50)\n",
    "X_lin_ = (X_lin - xmin) / (xmax - xmin)\n",
    "Y_lin_ = w*X_lin_ + b\n",
    "Y_lin = Y_lin_ * (ymax - ymin) + ymin\n",
    "\n",
    "plt.plot(X_lin, Y_lin)\n",
    "plt.plot(X, Y, 'ob')\n",
    "plt.plot(Xts, Yts, '*r')"
   ]
  },
  {
   "cell_type": "markdown",
   "metadata": {},
   "source": [
    "## 2.2 Accelerated Optimization (ADAM)\n",
    "\n",
    "### 2.2.1 Training\n",
    "\n",
    "ADAM optimization 방법을 사용"
   ]
  },
  {
   "cell_type": "code",
   "execution_count": 4,
   "metadata": {},
   "outputs": [
    {
     "name": "stdout",
     "output_type": "stream",
     "text": [
      "training loss:  0.0218470501126\n"
     ]
    },
    {
     "data": {
      "text/plain": [
       "[<matplotlib.lines.Line2D at 0x21f925b0048>]"
      ]
     },
     "execution_count": 4,
     "metadata": {},
     "output_type": "execute_result"
    },
    {
     "data": {
      "image/png": "[encoded data removed]",
      "text/plain": [
       "<matplotlib.figure.Figure at 0x21f92309048>"
      ]
     },
     "metadata": {},
     "output_type": "display_data"
    }
   ],
   "source": [
    "# initailize weight and bias for linear regression\n",
    "w = 0.6\n",
    "b = 0\n",
    "\n",
    "alpha = 0.001  # learning rate\n",
    "epoch = 1000\n",
    "\n",
    "m = np.array([0, 0])  # momentum\n",
    "v = np.array([0, 0])  # RMSProp\n",
    "\n",
    "beta1 = 0.9    # for momentum\n",
    "beta2 = 0.999  # for RMSProp\n",
    "e = 1E-8\n",
    "\n",
    "err_history = []\n",
    "\n",
    "for i in range(epoch):\n",
    "    Y_pred = w*X_ + b\n",
    "    Loss = 0.5 * (Y_ - Y_pred) ** 2\n",
    "    mse = Loss.sum() / ndata_tr\n",
    "    \n",
    "    dLdw = (Y_pred - Y_) * X_\n",
    "    dLdb = (Y_pred - Y_)\n",
    "    dLdw_mean = dLdw.sum() / ndata_tr\n",
    "    dLdb_mean = dLdb.sum() / ndata_tr\n",
    "    \n",
    "    grad = np.array([dLdw_mean, dLdb_mean])\n",
    "    \n",
    "    # update momentum\n",
    "    m = beta1 * m + (1 - beta1) * grad\n",
    "    \n",
    "    # update RMSProp\n",
    "    v = beta2 * v + (1 - beta2) * grad**2\n",
    "    \n",
    "    # unbias\n",
    "    t = i + 1\n",
    "    m_hat = m / (1 - beta1**t)\n",
    "    v_hat = v / (1 - beta2**t)\n",
    "    \n",
    "    # update weights\n",
    "    [w, b] = [w, b] - alpha / np.sqrt(v_hat + e) * m_hat\n",
    "    \n",
    "    err_history.append(mse)\n",
    "    \n",
    "# final training result\n",
    "Y_pred = w*X_ + b\n",
    "Loss = 0.5 * (Y_ - Y_pred) ** 2\n",
    "mse = Loss.sum() / ndata_tr\n",
    "err_history.append(mse)\n",
    "\n",
    "print('training loss: ', mse) # print the last mean square error\n",
    "plt.plot(err_history)"
   ]
  },
  {
   "cell_type": "markdown",
   "metadata": {},
   "source": [
    "### 2.2.2 Test"
   ]
  },
  {
   "cell_type": "code",
   "execution_count": 5,
   "metadata": {},
   "outputs": [
    {
     "name": "stdout",
     "output_type": "stream",
     "text": [
      "test loss:  0.0268907569181\n",
      "weight:  0.512001231251\n",
      "bias:  0.145535181576\n"
     ]
    },
    {
     "data": {
      "text/plain": [
       "[<matplotlib.lines.Line2D at 0x21f92bcf588>]"
      ]
     },
     "execution_count": 5,
     "metadata": {},
     "output_type": "execute_result"
    },
    {
     "data": {
      "image/png": "[encoded data removed]",
      "text/plain": [
       "<matplotlib.figure.Figure at 0x21f91677438>"
      ]
     },
     "metadata": {},
     "output_type": "display_data"
    }
   ],
   "source": [
    "# test with the new w & b\n",
    "\n",
    "Yts_pred = w*Xts_ + b\n",
    "Loss = 0.5 * (Yts_ - Yts_pred) ** 2\n",
    "mse = Loss.sum() / ndata_ts\n",
    "\n",
    "print('test loss: ', mse)\n",
    "print('weight: ', w)\n",
    "print('bias: ', b)\n",
    "\n",
    "# plot the linear regression result\n",
    "\n",
    "xmax_overall = max(xmax, max(Xts))\n",
    "xmin_overall = min(xmin, min(Xts))\n",
    "X_lin = np.linspace(xmin_overall, xmax_overall, 50)\n",
    "X_lin_ = (X_lin - xmin) / (xmax - xmin)\n",
    "Y_lin_ = w*X_lin_ + b\n",
    "Y_lin = Y_lin_ * (ymax - ymin) + ymin\n",
    "\n",
    "plt.plot(X_lin, Y_lin)\n",
    "plt.plot(X, Y, 'ob')\n",
    "plt.plot(Xts, Yts, '*r')"
   ]
  },
  {
   "cell_type": "markdown",
   "metadata": {},
   "source": [
    "# 3. Logistic Regression\n",
    "\n",
    "## 3.1 Accelerated Optimization (ADAM)\n",
    "\n",
    "### 3.1.1 Training"
   ]
  },
  {
   "cell_type": "code",
   "execution_count": 6,
   "metadata": {
    "scrolled": true
   },
   "outputs": [
    {
     "name": "stdout",
     "output_type": "stream",
     "text": [
      "training loss:  0.0122562638126\n"
     ]
    },
    {
     "data": {
      "text/plain": [
       "[<matplotlib.lines.Line2D at 0x21f92d8b400>]"
      ]
     },
     "execution_count": 6,
     "metadata": {},
     "output_type": "execute_result"
    },
    {
     "data": {
      "image/png": "[encoded data removed]",
      "text/plain": [
       "<matplotlib.figure.Figure at 0x21f92d60ba8>"
      ]
     },
     "metadata": {},
     "output_type": "display_data"
    }
   ],
   "source": [
    "# normalization (redefine)\n",
    "xmin = min(xmin, min(Xts))\n",
    "xmax = max(xmax, max(Xts))\n",
    "X_ = (X - xmin) / (xmax - xmin)\n",
    "\n",
    "ymin = min(ymin, min(Yts))\n",
    "ymax = max(ymax, max(Yts))\n",
    "Y_ = (Y - ymin) / (ymax - ymin)\n",
    "\n",
    "# initailize weight and bias for linear regression\n",
    "w = 1\n",
    "b = -0.5\n",
    "\n",
    "alpha = 0.01  # learning rate\n",
    "epoch = 1000\n",
    "\n",
    "m = np.array([0, 0])  # momentum\n",
    "v = np.array([0, 0])  # RMSProp\n",
    "\n",
    "beta1 = 0.9    # for momentum\n",
    "beta2 = 0.999  # for RMSProp\n",
    "e = 1E-8\n",
    "\n",
    "err_history = []\n",
    "\n",
    "for i in range(epoch):\n",
    "    Y_pred = 1 / (1 + np.exp(-1 * (w*X_ + b)))\n",
    "    Loss = 0.5 * (Y_ - Y_pred) ** 2\n",
    "    mse = Loss.sum() / ndata_tr\n",
    "    \n",
    "    dLdw = (Y_pred - Y_) * Y_pred * (1 - Y_pred) * X_\n",
    "    dLdb = (Y_pred - Y_) * Y_pred * (1 - Y_pred)\n",
    "    dLdw_mean = dLdw.sum() / ndata_tr\n",
    "    dLdb_mean = dLdb.sum() / ndata_tr\n",
    "    \n",
    "    grad = np.array([dLdw_mean, dLdb_mean])\n",
    "    \n",
    "    # update momentum\n",
    "    m = beta1 * m + (1 - beta1) * grad\n",
    "    \n",
    "    # update RMSProp\n",
    "    v = beta2 * v + (1 - beta2) * grad**2\n",
    "    \n",
    "    # unbias\n",
    "    t = i + 1\n",
    "    m_hat = m / (1 - beta1**t)\n",
    "    v_hat = v / (1 - beta2**t)\n",
    "    \n",
    "    # update weights\n",
    "    [w, b] = [w, b] - alpha / np.sqrt(v_hat + e) * m_hat\n",
    "    \n",
    "    err_history.append(mse)\n",
    "    \n",
    "# final training result\n",
    "Y_pred = 1 / (1 + np.exp(-1 * (w*X_ + b)))\n",
    "Loss = 0.5 * (Y_ - Y_pred) ** 2\n",
    "mse = Loss.sum() / ndata_tr\n",
    "err_history.append(mse)\n",
    "\n",
    "print('training loss: ', mse) # print the last mean square error\n",
    "plt.plot(err_history)"
   ]
  },
  {
   "cell_type": "markdown",
   "metadata": {},
   "source": [
    "### 3.1.2 Test"
   ]
  },
  {
   "cell_type": "code",
   "execution_count": 7,
   "metadata": {},
   "outputs": [
    {
     "name": "stdout",
     "output_type": "stream",
     "text": [
      "test loss:  0.0206477905304\n",
      "weight:  3.68977207135\n",
      "bias:  -1.90768074071\n"
     ]
    },
    {
     "data": {
      "text/plain": [
       "[<matplotlib.lines.Line2D at 0x21f92de8be0>]"
      ]
     },
     "execution_count": 7,
     "metadata": {},
     "output_type": "execute_result"
    },
    {
     "data": {
      "image/png": "[encoded data removed]",
      "text/plain": [
       "<matplotlib.figure.Figure at 0x21f92309cf8>"
      ]
     },
     "metadata": {},
     "output_type": "display_data"
    }
   ],
   "source": [
    "# test with the new w & b\n",
    "\n",
    "Yts_pred = 1 / (1 + np.exp(-1 * (w*Xts_ + b)))\n",
    "Loss = 0.5 * (Yts_ - Yts_pred) ** 2\n",
    "mse = Loss.sum() / ndata_ts\n",
    "\n",
    "print('test loss: ', mse)\n",
    "print('weight: ', w)\n",
    "print('bias: ', b)\n",
    "\n",
    "# plot the linear regression result\n",
    "\n",
    "xmax_overall = max(xmax, max(Xts))\n",
    "xmin_overall = min(xmin, min(Xts))\n",
    "X_log = np.linspace(xmin_overall, xmax_overall, 50)\n",
    "X_log_ = (X_log - xmin) / (xmax - xmin)\n",
    "Y_log_ = 1 / (1 + np.exp(-1 * (w*X_log_ + b)))\n",
    "Y_log = Y_log_ * (ymax - ymin) + ymin\n",
    "\n",
    "plt.plot(X_log, Y_log)\n",
    "plt.plot(X, Y, 'ob')\n",
    "plt.plot(Xts, Yts, '*r')"
   ]
  }
 ],
 "metadata": {
  "kernelspec": {
   "display_name": "Python 3",
   "language": "python",
   "name": "python3"
  },
  "language_info": {
   "codemirror_mode": {
    "name": "ipython",
    "version": 3
   },
   "file_extension": ".py",
   "mimetype": "text/x-python",
   "name": "python",
   "nbconvert_exporter": "python",
   "pygments_lexer": "ipython3",
   "version": "3.6.3"
  }
 },
 "nbformat": 4,
 "nbformat_minor": 2
}
