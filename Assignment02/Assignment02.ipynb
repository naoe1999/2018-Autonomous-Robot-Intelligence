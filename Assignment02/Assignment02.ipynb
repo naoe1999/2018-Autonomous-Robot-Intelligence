{
 "cells": [
  {
   "cell_type": "markdown",
   "metadata": {},
   "source": [
    "# Assignment 2\n",
    "\n",
    "## 2-layer perceptron for XOR problem\n",
    "\n",
    "### 1) 방법 1\n",
    "\n",
    "- Activation function (hidden layer): Sigmoid\n",
    "- Output function: Sigmoid\n",
    "- Cost function: Mean Square Error\n",
    "- Optimization: Gradient Descent"
   ]
  },
  {
   "cell_type": "code",
   "execution_count": 1,
   "metadata": {
    "collapsed": true
   },
   "outputs": [],
   "source": [
    "import numpy as np\n",
    "import matplotlib.pyplot as plt\n",
    "%matplotlib inline\n",
    "\n",
    "# data for learning XOR  [x1, x2, y]\n",
    "d1 = [0, 0, 0]\n",
    "d2 = [1, 0, 1]\n",
    "d3 = [0, 1, 1]\n",
    "d4 = [1, 1, 0]\n",
    "\n",
    "ndata = 4\n",
    "\n",
    "# input data\n",
    "#   shape = (ndata, nNode=2, 1)\n",
    "X = np.array([d1[0:2], d2[0:2], d3[0:2], d4[0:2]])\n",
    "X = X.reshape(4, 2, 1)\n",
    "\n",
    "# ground truth data\n",
    "#   shape = (ndata, nNode=1, 1)\n",
    "Y = np.array([d1[2], d2[2], d3[2], d4[2]])\n",
    "Y = Y.reshape(4, 1, 1)\n",
    "\n",
    "# activation function\n",
    "sigmoid = lambda x: 1 / (1+ np.exp(-x))\n",
    "sigmoid_dot = lambda y: y * (1-y)\n",
    "\n",
    "relu = lambda x: np.maximum(x, 0)\n",
    "relu_dot = lambda x: x >= 0\n"
   ]
  },
  {
   "cell_type": "code",
   "execution_count": 4,
   "metadata": {},
   "outputs": [
    {
     "data": {
      "image/png": "[encoded data removed]",
      "text/plain": [
       "<matplotlib.figure.Figure at 0x172e689b240>"
      ]
     },
     "metadata": {},
     "output_type": "display_data"
    },
    {
     "name": "stdout",
     "output_type": "stream",
     "text": [
      "input = \n",
      " [[0 0]\n",
      " [1 0]\n",
      " [0 1]\n",
      " [1 1]]\n",
      "W1 = \n",
      " [[-5.40408098  5.49557536]\n",
      " [-4.68194733  4.4637055 ]]\n",
      "b1 = \n",
      " [[ 2.81640609]\n",
      " [-2.43498422]]\n",
      "W2 = \n",
      " [[-6.70057796  7.20815399]]\n",
      "b2 = \n",
      " [[ 3.05569104]]\n",
      "output value = \n",
      " [[ 0.06379804]\n",
      " [ 0.93040474]\n",
      " [ 0.93861149]\n",
      " [ 0.05605112]]\n",
      "prediction = \n",
      " [[False]\n",
      " [ True]\n",
      " [ True]\n",
      " [False]]\n"
     ]
    },
    {
     "data": {
      "image/png": "[encoded data removed]",
      "text/plain": [
       "<matplotlib.figure.Figure at 0x172e5ca2ac8>"
      ]
     },
     "metadata": {},
     "output_type": "display_data"
    }
   ],
   "source": [
    "####################################\n",
    "# initialize weight and bias\n",
    "W1 = np.random.randn(2, 2) / np.sqrt(2)  # xavier initialization\n",
    "b1 = np.zeros((2, 1))\n",
    "W2 = np.random.randn(1, 2) / np.sqrt(2)  # xavier initialization\n",
    "b2 = np.zeros((1, 1))\n",
    "\n",
    "####################################\n",
    "# training\n",
    "learning_rate = 0.1\n",
    "epoch = 30000\n",
    "loss_hist = []\n",
    "\n",
    "for i in range(epoch):\n",
    "    \n",
    "    # hidden layer (1st PERCEPTRON layer)\n",
    "    #   shape = (ndata, nNode=2, 1)\n",
    "    H = sigmoid( np.matmul(W1, X) + b1 )\n",
    "    \n",
    "    # output layer (2nd PERCEPTRON layer)\n",
    "    #   shape = (ndata, nNode=1, 1)\n",
    "    Y_ = sigmoid( np.matmul(W2, H) + b2 )\n",
    "    \n",
    "    # loss function (MSE)\n",
    "    loss = ( 0.5 * (Y - Y_) ** 2 ).mean()\n",
    "    loss_hist.append(loss)\n",
    "    \n",
    "    # backpropagation\n",
    "    dLdW2 = np.matmul((Y_ - Y) * sigmoid_dot(Y_), H.transpose(0, 2, 1))  # shape = (ndata, outNode=1, inNode=2)\n",
    "    dLdb2 = (Y_ - Y) * sigmoid_dot(Y_)                                   # shape = (ndata, outNode=1, 1)\n",
    "    \n",
    "    dLdH = np.matmul(W2.transpose(), (Y_ - Y) * sigmoid_dot(Y_))         # shape = (ndata, nNode=2, 1)\n",
    "    dLdW1 = np.matmul(dLdH * sigmoid_dot(H), X.transpose(0, 2, 1))       # shape = (ndata, outNode=2, inNode=2)\n",
    "    dLdb1 = dLdH * sigmoid_dot(H)                                        # shape = (ndata, outNode=2, 1)\n",
    "    \n",
    "    # gradient\n",
    "    gradient = np.array([dLdW1.mean(axis=0), dLdW2.mean(axis=0), dLdb1.mean(axis=0), dLdb2.mean(axis=0)])\n",
    "    \n",
    "    # gradient descent\n",
    "    W1, W2, b1, b2 = np.array([W1, W2, b1, b2]) - learning_rate * gradient\n",
    "    \n",
    "    \n",
    "loss_plot = plt.plot(loss_hist)\n",
    "plt.show(loss_plot)\n",
    "\n",
    "\n",
    "####################################\n",
    "# prediction test after training\n",
    "H = sigmoid( np.matmul(W1, X) + b1 )\n",
    "Y_ = sigmoid( np.matmul(W2, H) + b2 )\n",
    "\n",
    "print('input = \\n', X.reshape(4, 2))\n",
    "print('W1 = \\n', W1)\n",
    "print('b1 = \\n', b1)\n",
    "print('W2 = \\n', W2)\n",
    "print('b2 = \\n', b2)\n",
    "print('output value = \\n', Y_.reshape(4, 1))\n",
    "print('prediction = \\n', Y_.reshape(4, 1) > 0.5)\n",
    "\n",
    "Y_p = Y_.reshape(4) > 0.5\n",
    "plt.plot(X[Y_p, 0, 0], X[Y_p, 1, 0], 'bo')\n",
    "plt.plot(X[Y_p == False, 0, 0], X[Y_p == False, 1, 0], 'rd')\n",
    "plt.xlim([-1, 2])\n",
    "plt.ylim([-1, 2])\n",
    "plt.legend(['true', 'false'])\n",
    "plt.show()"
   ]
  },
  {
   "cell_type": "markdown",
   "metadata": {},
   "source": [
    "\n",
    "\n",
    "### 2) 방법 2\n",
    "\n",
    "- Activation function (hidden layer): ReLU\n",
    "- Output function: Sigmoid\n",
    "- Cost function: Cross Entropy\n",
    "- Optimization: ADAM Optimization"
   ]
  },
  {
   "cell_type": "code",
   "execution_count": 5,
   "metadata": {},
   "outputs": [
    {
     "data": {
      "image/png": "[encoded data removed]",
      "text/plain": [
       "<matplotlib.figure.Figure at 0x172e6b91780>"
      ]
     },
     "metadata": {},
     "output_type": "display_data"
    },
    {
     "name": "stdout",
     "output_type": "stream",
     "text": [
      "input = \n",
      " [[0 0]\n",
      " [1 0]\n",
      " [0 1]\n",
      " [1 1]]\n",
      "W1 = \n",
      " [[-2.76300417 -2.76328703]\n",
      " [ 2.95083159  2.95054478]]\n",
      "b1 = \n",
      " [[ 2.7626403 ]\n",
      " [-2.95091854]]\n",
      "W2 = \n",
      " [[-4.90412076 -4.56829981]]\n",
      "b2 = \n",
      " [[ 6.25833311]]\n",
      "output value = \n",
      " [[  6.81870621e-04]\n",
      " [  9.98089224e-01]\n",
      " [  9.98089224e-01]\n",
      " [  7.31089876e-04]]\n",
      "prediction = \n",
      " [[False]\n",
      " [ True]\n",
      " [ True]\n",
      " [False]]\n"
     ]
    },
    {
     "data": {
      "image/png": "[encoded data removed]",
      "text/plain": [
       "<matplotlib.figure.Figure at 0x172e685ee80>"
      ]
     },
     "metadata": {},
     "output_type": "display_data"
    }
   ],
   "source": [
    "####################################\n",
    "# initialize weight and bias\n",
    "W1 = np.random.randn(2, 2) / np.sqrt(2)  # xavier initialization\n",
    "b1 = np.zeros((2, 1))\n",
    "W2 = np.random.randn(1, 2) / np.sqrt(2)  # xavier initialization\n",
    "b2 = np.zeros((1, 1))\n",
    "\n",
    "####################################\n",
    "# training\n",
    "learning_rate = 0.01\n",
    "epoch = 2000\n",
    "loss_hist = []\n",
    "\n",
    "# ADAM hyper-parameters\n",
    "beta1 = 0.9\n",
    "beta2 = 0.999\n",
    "e = 1E-8\n",
    "m = np.array([np.zeros(W1.shape), np.zeros(W2.shape), np.zeros(b1.shape), np.zeros(b2.shape)])\n",
    "v = np.array([np.zeros(W1.shape), np.zeros(W2.shape), np.zeros(b1.shape), np.zeros(b2.shape)])\n",
    "\n",
    "for i in range(epoch):\n",
    "    \n",
    "    # hidden layer (1st PERCEPTRON layer)\n",
    "    #   shape = (ndata, nNode=2, 1)\n",
    "    Hin = np.matmul(W1, X) + b1\n",
    "    H = relu( Hin )\n",
    "    \n",
    "    # output layer (2nd PERCEPTRON layer)\n",
    "    #   shape = (ndata, nNode=1, 1)\n",
    "    Y_in = np.matmul(W2, H) + b2\n",
    "    Y_ = sigmoid( Y_in )\n",
    "    \n",
    "    # loss function (Cross Entropy)\n",
    "    loss = -(Y * np.log(Y_) + (1 - Y) * np.log(1 - Y_)).mean()\n",
    "    loss_hist.append(loss)\n",
    "    \n",
    "    # backpropagation\n",
    "    dLdW2 = np.matmul((Y_ - Y), H.transpose(0, 2, 1))              # shape = (ndata, outNode=1, inNode=2)\n",
    "    dLdb2 = (Y_ - Y)                                               # shape = (ndata, outNode=1, 1)\n",
    "    \n",
    "    dLdH = np.matmul(W2.transpose(), (Y_ - Y))                     # shape = (ndata, nNode=2, 1)\n",
    "    dLdW1 = np.matmul(dLdH * relu_dot(Hin), X.transpose(0, 2, 1))  # shape = (ndata, outNode=2, inNode=2)\n",
    "    dLdb1 = dLdH * relu_dot(Hin)                                   # shape = (ndata, outNode=2, 1)\n",
    "    \n",
    "    # gradient\n",
    "    gradient = np.array([dLdW1.mean(axis=0), dLdW2.mean(axis=0), dLdb1.mean(axis=0), dLdb2.mean(axis=0)])\n",
    "    \n",
    "    #####################\n",
    "    # ADAM optimization\n",
    "    #  update momentum\n",
    "    m = beta1 * m + (1 - beta1) * gradient\n",
    "    \n",
    "    #  update RMSProp\n",
    "    v = beta2 * v + (1 - beta2) * gradient**2\n",
    "    \n",
    "    #  unbias\n",
    "    t = i + 1\n",
    "    m_hat = m / (1 - beta1**t)\n",
    "    v_hat = v / (1 - beta2**t)\n",
    "    \n",
    "    #  update weights\n",
    "    W1, W2, b1, b2 = np.array([W1, W2, b1, b2]) - learning_rate / (v_hat + e)**0.5 * m_hat\n",
    "    \n",
    "    \n",
    "loss_plot = plt.plot(loss_hist)\n",
    "plt.show(loss_plot)\n",
    "\n",
    "\n",
    "####################################\n",
    "# prediction test after training\n",
    "H = relu( np.matmul(W1, X) + b1 )\n",
    "Y_ = sigmoid( np.matmul(W2, H) + b2 )\n",
    "\n",
    "print('input = \\n', X.reshape(4, 2))\n",
    "print('W1 = \\n', W1)\n",
    "print('b1 = \\n', b1)\n",
    "print('W2 = \\n', W2)\n",
    "print('b2 = \\n', b2)\n",
    "print('output value = \\n', Y_.reshape(4, 1))\n",
    "print('prediction = \\n', Y_.reshape(4, 1) > 0.5)\n",
    "\n",
    "Y_p = Y_.reshape(4) > 0.5\n",
    "plt.plot(X[Y_p, 0, 0], X[Y_p, 1, 0], 'bo')\n",
    "plt.plot(X[Y_p == False, 0, 0], X[Y_p == False, 1, 0], 'rd')\n",
    "plt.xlim([-1, 2])\n",
    "plt.ylim([-1, 2])\n",
    "plt.legend(['true', 'false'])\n",
    "plt.show()"
   ]
  },
  {
   "cell_type": "code",
   "execution_count": null,
   "metadata": {
    "collapsed": true
   },
   "outputs": [],
   "source": []
  }
 ],
 "metadata": {
  "kernelspec": {
   "display_name": "Python 3",
   "language": "python",
   "name": "python3"
  },
  "language_info": {
   "codemirror_mode": {
    "name": "ipython",
    "version": 3
   },
   "file_extension": ".py",
   "mimetype": "text/x-python",
   "name": "python",
   "nbconvert_exporter": "python",
   "pygments_lexer": "ipython3",
   "version": "3.6.3"
  }
 },
 "nbformat": 4,
 "nbformat_minor": 2
}
