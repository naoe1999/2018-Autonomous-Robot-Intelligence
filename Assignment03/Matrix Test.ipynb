{
 "cells": [
  {
   "cell_type": "code",
   "execution_count": 13,
   "metadata": {
    "collapsed": true
   },
   "outputs": [],
   "source": [
    "import numpy as np\n",
    "import matplotlib.pyplot as plt\n",
    "%matplotlib inline\n",
    "\n",
    "# load data\n",
    "training_dataset_file = open(\"mnist_train_200.csv\", 'r')\n",
    "\n",
    "training_dataset_list = training_dataset_file.readlines()\n",
    "training_dataset_file.close()\n",
    "input_list = list()\n",
    "target_list = list()\n",
    "\n",
    "for i in training_dataset_list:\n",
    "    all_values = i.split(',')\n",
    "    inputs = (np.asfarray(all_values[1:])/255.0*0.99)+0.01\n",
    "    input_list.append(inputs)\n",
    "    \n",
    "    targets = np.zeros(10) + 0.001\n",
    "    targets[int(all_values[0])] = 0.991   # sum to 1\n",
    "    target_list.append(targets)"
   ]
  },
  {
   "cell_type": "code",
   "execution_count": 20,
   "metadata": {},
   "outputs": [
    {
     "ename": "AttributeError",
     "evalue": "'list' object has no attribute '__type__'",
     "output_type": "error",
     "traceback": [
      "\u001b[1;31m---------------------------------------------------------------------------\u001b[0m",
      "\u001b[1;31mAttributeError\u001b[0m                            Traceback (most recent call last)",
      "\u001b[1;32m<ipython-input-20-75e29ffe541e>\u001b[0m in \u001b[0;36m<module>\u001b[1;34m()\u001b[0m\n\u001b[0;32m      1\u001b[0m \u001b[0mtt\u001b[0m \u001b[1;33m=\u001b[0m \u001b[0minput_list\u001b[0m\u001b[1;33m[\u001b[0m\u001b[1;33m:\u001b[0m\u001b[1;36m150\u001b[0m\u001b[1;33m]\u001b[0m\u001b[1;33m\u001b[0m\u001b[0m\n\u001b[1;32m----> 2\u001b[1;33m \u001b[0mprint\u001b[0m\u001b[1;33m(\u001b[0m\u001b[0mtt\u001b[0m\u001b[1;33m.\u001b[0m\u001b[0m__type__\u001b[0m\u001b[1;33m)\u001b[0m\u001b[1;33m\u001b[0m\u001b[0m\n\u001b[0m",
      "\u001b[1;31mAttributeError\u001b[0m: 'list' object has no attribute '__type__'"
     ]
    }
   ],
   "source": [
    "tt = input_list[:150]\n",
    "print(tt.__type__)"
   ]
  },
  {
   "cell_type": "code",
   "execution_count": 2,
   "metadata": {},
   "outputs": [
    {
     "name": "stdout",
     "output_type": "stream",
     "text": [
      "(200, 28, 28, 1)\n"
     ]
    },
    {
     "data": {
      "text/plain": [
       "<matplotlib.image.AxesImage at 0x20cd76bfc50>"
      ]
     },
     "execution_count": 2,
     "metadata": {},
     "output_type": "execute_result"
    },
    {
     "data": {
      "image/png": "[encoded data removed]",
      "text/plain": [
       "<matplotlib.figure.Figure at 0x20cd5e809e8>"
      ]
     },
     "metadata": {},
     "output_type": "display_data"
    }
   ],
   "source": [
    "x = np.reshape(input_list, (-1, 28, 28, 1))\n",
    "print(x.shape)\n",
    "plt.imshow(x[0, :, :, 0])"
   ]
  },
  {
   "cell_type": "code",
   "execution_count": 3,
   "metadata": {},
   "outputs": [
    {
     "name": "stdout",
     "output_type": "stream",
     "text": [
      "(200, 10)\n",
      "0.095\n"
     ]
    }
   ],
   "source": [
    "y = np.reshape(target_list, (-1, 10))\n",
    "print(y.shape)\n",
    "\n",
    "y_pred = np.random.randn(y.shape[0], y.shape[1])\n",
    "print(np.equal(y.argmax(axis=1), y_pred.argmax(axis=1)).sum() / len(y))\n"
   ]
  },
  {
   "cell_type": "code",
   "execution_count": 4,
   "metadata": {},
   "outputs": [
    {
     "name": "stdout",
     "output_type": "stream",
     "text": [
      "(28, 28, 1)\n",
      "(30, 30, 1)\n",
      "[[-0.60901968  0.92152349 -1.22365251]\n",
      " [ 0.04182783  0.84079162  1.18940252]\n",
      " [ 0.53899681  2.11019796  0.20444162]]\n",
      "(28, 28, 4)\n"
     ]
    },
    {
     "data": {
      "text/plain": [
       "<matplotlib.image.AxesImage at 0x20cd786e780>"
      ]
     },
     "execution_count": 4,
     "metadata": {},
     "output_type": "execute_result"
    },
    {
     "data": {
      "image/png": "[encoded data removed]",
      "text/plain": [
       "<matplotlib.figure.Figure at 0x20cd783ddd8>"
      ]
     },
     "metadata": {},
     "output_type": "display_data"
    }
   ],
   "source": [
    "'''\n",
    "convolution test for one image\n",
    "\n",
    "'''\n",
    "# take one image\n",
    "xi = x[0, :, :, :]\n",
    "print(xi.shape)\n",
    "\n",
    "# padding\n",
    "xp = np.zeros((xi.shape[0] + 2, xi.shape[1] + 2, 1)) + 0.01\n",
    "xp[1:-1, 1:-1, :] = xi\n",
    "print(xp.shape)\n",
    "plt.imshow(xp[:, :, 0])\n",
    "\n",
    "# convolution\n",
    "f = np.random.randn(3,3,1,4)\n",
    "print(f[:, :, 0, 0])\n",
    "\n",
    "y = np.zeros((xi.shape[0], xi.shape[1], f.shape[3]))\n",
    "print(y.shape)\n",
    "\n",
    "#y[0, 0, :] = np.sum(xp[0:3, 0:3, :, None] * f, axis=(0,1,2))\n",
    "#print(y)\n",
    "\n",
    "for i in range(y.shape[0]):\n",
    "    for j in range(y.shape[1]):\n",
    "        xp_fraction = xp[i:i+3, j:j+3, :, None]   # dimension must be same to the filter's\n",
    "        y[i, j, :] = np.sum(xp_fraction * f, axis=(0,1,2))\n",
    "\n",
    "# activation\n",
    "y = np.maximum(y, 0)\n",
    "plt.imshow(y[:, :, 0])\n"
   ]
  },
  {
   "cell_type": "code",
   "execution_count": 5,
   "metadata": {},
   "outputs": [
    {
     "name": "stdout",
     "output_type": "stream",
     "text": [
      "(4, 28, 28, 1)\n",
      "(4, 30, 30, 1)\n",
      "[[-0.91048262  1.04033768 -2.15467828]\n",
      " [ 0.77758332 -0.21733334  0.21735788]\n",
      " [ 1.13160095 -1.07029154 -1.85043916]]\n",
      "(4, 28, 28, 4)\n"
     ]
    },
    {
     "data": {
      "text/plain": [
       "<matplotlib.image.AxesImage at 0x20cd78d4e80>"
      ]
     },
     "execution_count": 5,
     "metadata": {},
     "output_type": "execute_result"
    },
    {
     "data": {
      "image/png": "[encoded data removed]",
      "text/plain": [
       "<matplotlib.figure.Figure at 0x20cd5f19d30>"
      ]
     },
     "metadata": {},
     "output_type": "display_data"
    }
   ],
   "source": [
    "'''\n",
    "convolution test for multiple images (e.g. minibatch)\n",
    "\n",
    "'''\n",
    "# take ten image\n",
    "xi = x[0:4, :, :, :]\n",
    "print(xi.shape)\n",
    "\n",
    "# padding\n",
    "xp = np.zeros((xi.shape[0], xi.shape[1] + 2, xi.shape[2] + 2, 1)) + 0.01\n",
    "xp[:, 1:29, 1:29, :] = xi\n",
    "print(xp.shape)\n",
    "plt.imshow(xp[0, :, :, 0])\n",
    "\n",
    "# convolution\n",
    "f = np.random.randn(3,3,1,4)\n",
    "print(f[:, :, 0, 0])\n",
    "\n",
    "y = np.zeros((xi.shape[0], xi.shape[1], xi.shape[2], f.shape[3]))\n",
    "print(y.shape)\n",
    "\n",
    "for i in range(y.shape[1]):\n",
    "    for j in range(y.shape[2]):\n",
    "        xp_fraction = xp[:, i:i+3, j:j+3, :, None]\n",
    "        y[:, i, j, :] = np.sum(xp_fraction * f, axis=(1,2,3))\n",
    "\n",
    "# activation\n",
    "y = np.maximum(y, 0)\n",
    "plt.imshow(y[0, :, :, 0])"
   ]
  },
  {
   "cell_type": "code",
   "execution_count": 6,
   "metadata": {},
   "outputs": [
    {
     "name": "stdout",
     "output_type": "stream",
     "text": [
      "(4, 28, 28, 4)\n",
      "(4, 14, 2, 14, 2, 4)\n",
      "(4, 14, 14, 4)\n",
      "(4, 7, 7, 4)\n"
     ]
    },
    {
     "data": {
      "text/plain": [
       "<matplotlib.image.AxesImage at 0x20cd7933978>"
      ]
     },
     "execution_count": 6,
     "metadata": {},
     "output_type": "execute_result"
    },
    {
     "data": {
      "image/png": "[encoded data removed]",
      "text/plain": [
       "<matplotlib.figure.Figure at 0x20cd5e809b0>"
      ]
     },
     "metadata": {},
     "output_type": "display_data"
    }
   ],
   "source": [
    "'''\n",
    "max pooling test for multiple images\n",
    "\n",
    "'''\n",
    "print(y.shape)\n",
    "\n",
    "y1 = y.reshape(y.shape[0], y.shape[1]//2, 2, y.shape[2]//2, 2, y.shape[3])\n",
    "print(y1.shape)\n",
    "y1 = y1.max(axis=(2, 4))\n",
    "print(y1.shape)\n",
    "plt.imshow(y1[0, :, :, 0])\n",
    "\n",
    "\n",
    "y2 = y1.reshape(y1.shape[0], y1.shape[1]//2, 2, y1.shape[2]//2, 2, y1.shape[3])\n",
    "y2 = y2.max(axis=(2, 4))\n",
    "print(y2.shape)\n",
    "plt.imshow(y2[0, :, :, 0])"
   ]
  },
  {
   "cell_type": "code",
   "execution_count": 7,
   "metadata": {},
   "outputs": [
    {
     "name": "stdout",
     "output_type": "stream",
     "text": [
      "(4, 196)\n",
      "(4, 1)\n",
      "(4, 196)\n",
      "(4, 196)\n"
     ]
    },
    {
     "data": {
      "text/plain": [
       "array([[ 1.],\n",
       "       [ 1.],\n",
       "       [ 1.],\n",
       "       [ 1.]])"
      ]
     },
     "execution_count": 7,
     "metadata": {},
     "output_type": "execute_result"
    }
   ],
   "source": [
    "'''\n",
    "softmax test\n",
    "\n",
    "'''\n",
    "fl = y2.reshape(-1, 7*7*4)\n",
    "print(fl.shape)\n",
    "\n",
    "fm = fl.max(axis=1, keepdims=True)\n",
    "print(fm.shape)\n",
    "\n",
    "e_x = np.exp(fl - fm)\n",
    "print(e_x.shape)\n",
    "sf = e_x / e_x.sum(axis=1, keepdims=True)\n",
    "print(sf.shape)\n",
    "\n",
    "sf.sum(axis=1, keepdims=True)"
   ]
  },
  {
   "cell_type": "code",
   "execution_count": 8,
   "metadata": {},
   "outputs": [
    {
     "name": "stdout",
     "output_type": "stream",
     "text": [
      "(4, 7, 7, 4)\n",
      "(4, 14, 14, 4)\n",
      "[[ 5.  5.  5.  5.  5.  5.  5.  5.]\n",
      " [ 5.  5.  5.  5.  5.  5.  5.  5.]\n",
      " [ 5.  5.  5.  5.  5.  5.  5.  5.]\n",
      " [ 5.  5.  5.  5.  5.  5.  5.  5.]\n",
      " [ 5.  5.  5.  5.  0.  0.  0.  0.]\n",
      " [ 5.  5.  5.  5.  5.  0.  0.  5.]\n",
      " [ 5.  5.  5.  5.  5.  5.  5.  5.]\n",
      " [ 5.  5.  5.  5.  5.  5.  5.  5.]]\n"
     ]
    },
    {
     "data": {
      "image/png": "[encoded data removed]",
      "text/plain": [
       "<matplotlib.figure.Figure at 0x20cd783d7b8>"
      ]
     },
     "metadata": {},
     "output_type": "display_data"
    }
   ],
   "source": [
    "'''\n",
    "max pooling backpropagation test\n",
    "\n",
    "'''\n",
    "print(y2.shape)\n",
    "errmap = np.ones((4, 14, 14, 4)) * 5\n",
    "\n",
    "temp = y2.repeat(2, axis=1).repeat(2, axis=2)\n",
    "print(temp.shape)\n",
    "plt.imshow(temp[0, :, :, 0])\n",
    "\n",
    "mask = np.equal(y1, y2.repeat(2, axis=1).repeat(2, axis=2))\n",
    "errmap = mask * errmap;\n",
    "print(errmap[0, :8, :8, 0])"
   ]
  },
  {
   "cell_type": "code",
   "execution_count": 9,
   "metadata": {},
   "outputs": [
    {
     "name": "stdout",
     "output_type": "stream",
     "text": [
      "[[-1.23169442 -0.69932613  2.00246155]\n",
      " [-0.12806699 -0.00882719 -0.48094108]\n",
      " [ 0.87135524  1.14900576  0.76125328]]\n",
      "[[-1.23169442 -0.12806699  0.87135524]\n",
      " [-0.69932613 -0.00882719  1.14900576]\n",
      " [ 2.00246155 -0.48094108  0.76125328]]\n"
     ]
    }
   ],
   "source": [
    "F = np.random.randn(3, 3, 32, 64)\n",
    "Ft = F.transpose(1, 0, 3, 2)\n",
    "\n",
    "print(F[:, :, 0, 1])\n",
    "print(Ft[:, :, 1, 0])"
   ]
  },
  {
   "cell_type": "code",
   "execution_count": 10,
   "metadata": {},
   "outputs": [
    {
     "name": "stdout",
     "output_type": "stream",
     "text": [
      "(4, 14, 14, 16, 32)\n",
      "(4, 16, 32)\n",
      "(16, 32)\n"
     ]
    }
   ],
   "source": [
    "z = np.random.randn(4, 14, 14, 16)\n",
    "e = np.random.randn(4, 14, 14, 32)\n",
    "\n",
    "fg = z[:, :, :, :, None] * e[:, :, :, None, :]\n",
    "print(fg.shape)\n",
    "\n",
    "fg = np.sum(fg, axis=(1,2))\n",
    "print(fg.shape)\n",
    "\n",
    "fg = np.mean(fg, axis=0)\n",
    "print(fg.shape)"
   ]
  },
  {
   "cell_type": "code",
   "execution_count": 11,
   "metadata": {},
   "outputs": [
    {
     "data": {
      "text/plain": [
       "(2,)"
      ]
     },
     "execution_count": 11,
     "metadata": {},
     "output_type": "execute_result"
    }
   ],
   "source": [
    "import numpy as np\n",
    "a = np.array([1, 2, 3])\n",
    "b = np.array([[5, 5, 6], [7, 8, 9]])\n",
    "c = np.array([a, b])\n",
    "\n",
    "d = c.copy()\n",
    "\n",
    "c.shape"
   ]
  },
  {
   "cell_type": "code",
   "execution_count": 12,
   "metadata": {},
   "outputs": [
    {
     "name": "stdout",
     "output_type": "stream",
     "text": [
      "[[4 6]]\n",
      "(1, 2)\n"
     ]
    }
   ],
   "source": [
    "import numpy as np\n",
    "a = np.array([[1, 2], [3, 4]])\n",
    "b = a.sum(axis=0, keepdims=True)\n",
    "print(b)\n",
    "print(b.shape)\n"
   ]
  }
 ],
 "metadata": {
  "kernelspec": {
   "display_name": "Python 3",
   "language": "python",
   "name": "python3"
  },
  "language_info": {
   "codemirror_mode": {
    "name": "ipython",
    "version": 3
   },
   "file_extension": ".py",
   "mimetype": "text/x-python",
   "name": "python",
   "nbconvert_exporter": "python",
   "pygments_lexer": "ipython3",
   "version": "3.6.3"
  }
 },
 "nbformat": 4,
 "nbformat_minor": 2
}
